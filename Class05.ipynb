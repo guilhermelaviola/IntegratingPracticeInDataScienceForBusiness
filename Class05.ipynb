{
  "nbformat": 4,
  "nbformat_minor": 0,
  "metadata": {
    "colab": {
      "provenance": [],
      "authorship_tag": "ABX9TyMbBrfOchtTzXdFo+psyMgl",
      "include_colab_link": true
    },
    "kernelspec": {
      "name": "python3",
      "display_name": "Python 3"
    },
    "language_info": {
      "name": "python"
    }
  },
  "cells": [
    {
      "cell_type": "markdown",
      "metadata": {
        "id": "view-in-github",
        "colab_type": "text"
      },
      "source": [
        "<a href=\"https://colab.research.google.com/github/guilhermelaviola/IntegratingPracticesInDataScienceForBusiness/blob/main/AIForBusiness.ipynb\" target=\"_parent\"><img src=\"https://colab.research.google.com/assets/colab-badge.svg\" alt=\"Open In Colab\"/></a>"
      ]
    },
    {
      "cell_type": "markdown",
      "source": [
        "# **Importing and Preprocessing Data**"
      ],
      "metadata": {
        "id": "jo_kzVT9nJSA"
      }
    },
    {
      "cell_type": "code",
      "execution_count": null,
      "metadata": {
        "id": "XyKeZzNHl6s_"
      },
      "outputs": [],
      "source": [
        "import pandas as pd\n",
        "from sklearn.model_selection import train_test_split\n",
        "from sklearn.ensemble import RandomForestClassifier\n",
        "from sklearn.metrics import accuracy_score, classification_report\n",
        "\n",
        "# Exemplo de carregamento de dados\n",
        "df = pd.read_csv('dados.csv') # Suponha que temos um arquivo CSV com dados\n",
        "Divisão dos dados em variáveis de entrada (X) e saída (y)\n",
        "X = df.drop('target', axis=1) # Suponha que a coluna 'target' é o rótulo\n",
        "y = df['target']"
      ]
    },
    {
      "cell_type": "code",
      "source": [
        "\n",
        "# Divisão dos dados em conjuntos de treinamento e teste\n",
        "_X_train,_X_test, y_train, y_test = train_test_split(x, y, test_size=0.2, random_state=42)\n",
        "# Criação do modelo\n",
        "model = Random ForestClassifier(n_estimators=100, random_state=42)\n",
        "# Treinamento do modelo\n",
        "#model.fit(X_train, y_train)\n",
        "# Previsões no conjunto de teste #y_pred = model.predict(X_test)\n",
        "# Avaliação do modelo\n",
        "accuracy = accuracy_score(y_test, y_pred) # report = classification_report(y_test, y_pred)"
      ],
      "metadata": {
        "colab": {
          "base_uri": "https://localhost:8080/"
        },
        "id": "eMTKewXEmUDj",
        "outputId": "c8e34288-76b4-4753-83fd-16dc595d7179"
      },
      "execution_count": null,
      "outputs": [
        {
          "output_type": "stream",
          "name": "stdout",
          "text": [
            "                                                text  label\n",
            "0  Congratulations, you've won a $1000 gift card!...      1\n",
            "1   Hey, can we reschedule our meeting to next week?      0\n",
            "2      Lowest prices on meds, guaranteed! Order now!      1\n",
            "3                Your Amazon order has been shipped.      0\n",
            "4       Earn money from home with this simple trick!      1\n",
            "5                                       Lunch today?      0\n",
            "6     Act now! Limited time offer on luxury watches!      1\n",
            "7  Here's the report you asked for. Let me know i...      0\n",
            "8  Urgent: Update your bank account information i...      1\n",
            "9                Don't forget our team call at 3 PM.      0\n"
          ]
        }
      ]
    },
    {
      "cell_type": "code",
      "source": [],
      "metadata": {
        "id": "TZmx6xwAGlks"
      },
      "execution_count": null,
      "outputs": []
    }
  ]
}
