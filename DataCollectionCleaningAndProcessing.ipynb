{
  "nbformat": 4,
  "nbformat_minor": 0,
  "metadata": {
    "colab": {
      "provenance": [],
      "authorship_tag": "ABX9TyNNzpNrs4E7RVI15JrJB/oo",
      "include_colab_link": true
    },
    "kernelspec": {
      "name": "python3",
      "display_name": "Python 3"
    },
    "language_info": {
      "name": "python"
    }
  },
  "cells": [
    {
      "cell_type": "markdown",
      "metadata": {
        "id": "view-in-github",
        "colab_type": "text"
      },
      "source": [
        "<a href=\"https://colab.research.google.com/github/guilhermelaviola/IntegratingPracticeInDataScienceForBusiness/blob/main/DataCollectionCleaningAndProcessing.ipynb\" target=\"_parent\"><img src=\"https://colab.research.google.com/assets/colab-badge.svg\" alt=\"Open In Colab\"/></a>"
      ]
    },
    {
      "cell_type": "markdown",
      "source": [
        "# **Data Collection, Cleaning and Processing**"
      ],
      "metadata": {
        "id": "JSRPf7DlLWGk"
      }
    },
    {
      "cell_type": "markdown",
      "source": [
        "# **Part 1: Web Scraping**\n",
        "\n",
        "**Objectives**\n",
        "- Collect data from a website using the Python web scraping technique.\n",
        "- Identify and extract specific information, such as article titles or product prices.\n",
        "\n",
        "**Step by Step**\n",
        "- Choose a website that allows web scraping (check the website's terms of use).\n",
        "- Import the requests and BeautifulSoup libraries.\n",
        "- Set the website's URL and make the HTTP request.\n",
        "Analyze the page's HTML content and extract the desired information."
      ],
      "metadata": {
        "id": "FUmFN2ZkLWmV"
      }
    },
    {
      "cell_type": "code",
      "execution_count": 25,
      "metadata": {
        "id": "Eu6bX0gqLROK"
      },
      "outputs": [],
      "source": [
        "import requests\n",
        "from bs4 import BeautifulSoup\n",
        "import csv\n",
        "import re\n",
        "from datetime import datetime\n",
        "\n",
        "# Getting current date in dd-mm-yyyy format:\n",
        "extraction_date = datetime.now().strftime('%d-%m-%Y')\n",
        "\n",
        "url = 'https://store.inter.it/en-br/match-kit/'\n",
        "response = requests.get(url)\n",
        "soup = BeautifulSoup(response.content, 'html.parser')\n",
        "products = soup.find_all(class_='tile-body')\n",
        "\n",
        "data = []\n",
        "\n",
        "for product in products:\n",
        "    text = product.get_text(strip=True)\n",
        "\n",
        "    # Extracting using regex: product name, price, sizes:\n",
        "    match = re.match(r\"^(.*?)(?:From)?R\\$ ?([\\d.,]+)([A-Z]+)$\", text)\n",
        "\n",
        "    if match:\n",
        "        product_name = match.group(1).strip()\n",
        "        price = match.group(2).strip()\n",
        "        sizes = ' '.join(match.group(3))  # Separate letters\n",
        "        data.append([product_name, price, sizes, extraction_date])\n",
        "    else:\n",
        "        data.append([text, '', '', extraction_date])  # fallback in case of mismatch\n",
        "\n",
        "# Writing to .CSV:\n",
        "with open('data.csv', 'w', newline='', encoding='utf-8') as f:\n",
        "    writer = csv.writer(f)\n",
        "    writer.writerow(['Product Name', 'Price (BRL)', 'Sizes', 'Date'])\n",
        "    writer.writerows(data)"
      ]
    },
    {
      "cell_type": "markdown",
      "source": [
        "# **Part 2: Data Cleaning with OpenRefine**\n",
        "\n",
        "**Objective**\n",
        "- Import data collected via web scraping into OpenRefine.\n",
        "- Perform basic cleaning operations, such as removing duplicates and standardizing formats.\n",
        "\n",
        "**Step by Step**\n",
        "- Import data into OpenRefine in CSV format.\n",
        "- Use OpenRefine's features to:\n",
        "  - Remove duplicate records.\n",
        "  - Standardize date or numeric formats.\n",
        "  - Correct inconsistencies in data, such as typos."
      ],
      "metadata": {
        "id": "IbtinnyPlMLF"
      }
    },
    {
      "cell_type": "markdown",
      "source": [
        "# **Part 3: Data Processing with Python**\n",
        "\n",
        "**Objective**\n",
        "- Use the pandas library to clean and transform the collected data.\n",
        "\n",
        "**Step by Step**\n",
        "- Import the pandas library and load the data.\n",
        "- Replace null values, remove duplicates, and standardize date formats.\n",
        "- Filter the data to include only relevant records."
      ],
      "metadata": {
        "id": "CPFgyHSUlUEo"
      }
    },
    {
      "cell_type": "code",
      "source": [
        "# Importing Pandas\n",
        "import pandas as pd\n",
        "\n",
        "# Loading data from the .CSV file:\n",
        "data = pd.read_csv('data.csv')\n",
        "\n",
        "# Replacing null values with 0:\n",
        "data['Price (BRL)'].fillna(0, inplace=True)\n",
        "\n",
        "# Removing duplicates:\n",
        "data.drop_duplicates(inplace=True)\n",
        "\n",
        "# Normalizing the date format by changing it from '%Y-%m-%d' to '%d-%m-%Y':\n",
        "data['Date'] = pd.to_datetime(data['Date'], format='%d/%m/%Y', errors='coerce')\n",
        "\n",
        "# errors='coerce' will handle errors by setting invalid parsing to NaT (Not a Time)\n",
        "\n",
        "# Converting 'Price (BRL)' to numeric, handling errors:\n",
        "data['Price (BRL)'] = pd.to_numeric(data['Price (BRL)'].str.replace('.','').str.replace(',','.'), errors='coerce')\n",
        "\n",
        "# Filtering products with price > 800:\n",
        "data = data[data['Price (BRL)'] > 800]\n",
        "\n",
        "# Saving cleaned data:\n",
        "data.to_csv('inter_products_cleaned.csv', index=False)"
      ],
      "metadata": {
        "colab": {
          "base_uri": "https://localhost:8080/"
        },
        "id": "yevWdKCAlaEn",
        "outputId": "fba67d49-c0b1-4bd2-92e4-39bc7c6b039c"
      },
      "execution_count": 30,
      "outputs": [
        {
          "output_type": "stream",
          "name": "stderr",
          "text": [
            "<ipython-input-30-f8871c8a20fa>:7: FutureWarning: A value is trying to be set on a copy of a DataFrame or Series through chained assignment using an inplace method.\n",
            "The behavior will change in pandas 3.0. This inplace method will never work because the intermediate object on which we are setting values always behaves as a copy.\n",
            "\n",
            "For example, when doing 'df[col].method(value, inplace=True)', try using 'df.method({col: value}, inplace=True)' or df[col] = df[col].method(value) instead, to perform the operation inplace on the original object.\n",
            "\n",
            "\n",
            "  data['Price (BRL)'].fillna(0, inplace=True)\n"
          ]
        }
      ]
    },
    {
      "cell_type": "markdown",
      "source": [
        "# **Part 4: Analysis and Reflection**\n",
        "\n",
        "**Objective**\n",
        "- Reflect on the data collection, cleaning and processing process.\n",
        "- Identify the challenges faced and the solutions applied."
      ],
      "metadata": {
        "id": "NkMxetrElUH-"
      }
    }
  ]
}